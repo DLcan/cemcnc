{
 "cells": [
  {
   "cell_type": "code",
   "execution_count": 1,
   "metadata": {
    "collapsed": true
   },
   "outputs": [],
   "source": [
    "# -*- coding: utf-8 -*-\n",
    "# python"
   ]
  },
  {
   "cell_type": "code",
   "execution_count": 2,
   "metadata": {
    "collapsed": true
   },
   "outputs": [],
   "source": [
    "import pyrebase\n"
   ]
  },
  {
   "cell_type": "raw",
   "metadata": {},
   "source": [
    "# \n",
    "#\n",
    "# confidential data for firebase is  in the config.py file :\n",
    "config = {\n",
    "    \"apiKey\": \"\",\n",
    "    \"authDomain\": \"\",\n",
    "    \"databaseURL\": \"\",\n",
    "    \"projectId\": \"\",\n",
    "    \"storageBucket\": \"\",\n",
    "    \"messagingSenderId\": \"\"\n",
    "}\n",
    "\n",
    "email = \"email\"\n",
    "\n",
    "password = \"**********\"\n",
    "#\n",
    "#\n",
    "#"
   ]
  },
  {
   "cell_type": "code",
   "execution_count": 7,
   "metadata": {
    "collapsed": false
   },
   "outputs": [],
   "source": [
    "boy = 0"
   ]
  },
  {
   "cell_type": "raw",
   "metadata": {
    "collapsed": false
   },
   "source": [
    "# if you have a config file and a Firebase account :\n",
    "# ACTIVATE THIS CELL (change cell mode from Rw NBConvert to Code) \n",
    "\n",
    "import config\n",
    "\n",
    "firebase = pyrebase.initialize_app(config.config)\n",
    "\n",
    "# Get a reference to the auth service\n",
    "auth = firebase.auth()\n",
    "\n",
    "# Log the user in\n",
    "user = auth.sign_in_with_email_and_password(config.email, config.password)\n",
    "\n",
    "# Get a reference to the database service\n",
    "db = firebase.database()\n",
    "\n",
    "kapsa_data = eval(db.child(\"vision\").child(\"kapsa\").get(user['idToken']).val())\n",
    "\n",
    "boy = len((kapsa_data))"
   ]
  },
  {
   "cell_type": "code",
   "execution_count": 6,
   "metadata": {
    "collapsed": true
   },
   "outputs": [],
   "source": [
    "import numpy as np\n",
    "import math\n",
    "import matplotlib.pyplot as plt \n",
    "import json"
   ]
  },
  {
   "cell_type": "code",
   "execution_count": 21,
   "metadata": {
    "collapsed": false
   },
   "outputs": [
    {
     "data": {
      "text/plain": [
       "0"
      ]
     },
     "execution_count": 21,
     "metadata": {},
     "output_type": "execute_result"
    }
   ],
   "source": [
    "# for offline usage it reads an example from cnc.json\n",
    "if boy==0:\n",
    "    kapsa_json = json.loads(open(\"cnc.json\").read())\n",
    "    kapsa_data = eval(kapsa_json[\"vision\"][\"kapsa\"])\n",
    "boy\n",
    "# boy is zero if offline"
   ]
  },
  {
   "cell_type": "code",
   "execution_count": 22,
   "metadata": {
    "collapsed": false
   },
   "outputs": [
    {
     "data": {
      "text/plain": [
       "[[268.5, 193], [459.5, 201.5], [454.5, 231], [200.5, 232.5]]"
      ]
     },
     "execution_count": 22,
     "metadata": {},
     "output_type": "execute_result"
    }
   ],
   "source": [
    "kapsa_data"
   ]
  },
  {
   "cell_type": "code",
   "execution_count": 23,
   "metadata": {
    "collapsed": false
   },
   "outputs": [],
   "source": [
    "kapsa = np.array(kapsa_data)"
   ]
  },
  {
   "cell_type": "code",
   "execution_count": 12,
   "metadata": {
    "collapsed": false
   },
   "outputs": [
    {
     "data": {
      "text/plain": [
       "array([[ 268.5,  193. ],\n",
       "       [ 459.5,  201.5],\n",
       "       [ 454.5,  231. ],\n",
       "       [ 200.5,  232.5]])"
      ]
     },
     "execution_count": 12,
     "metadata": {},
     "output_type": "execute_result"
    }
   ],
   "source": [
    "kapsa"
   ]
  },
  {
   "cell_type": "code",
   "execution_count": 13,
   "metadata": {
    "collapsed": false
   },
   "outputs": [
    {
     "name": "stdout",
     "output_type": "stream",
     "text": [
      "[[ 268.5  193. ]\n",
      " [ 459.5  201.5]\n",
      " [ 454.5  231. ]\n",
      " [ 200.5  232.5]]\n"
     ]
    }
   ],
   "source": [
    "print (kapsa)"
   ]
  },
  {
   "cell_type": "code",
   "execution_count": 14,
   "metadata": {
    "collapsed": false
   },
   "outputs": [],
   "source": [
    "A = kapsa[0]\n",
    "B = kapsa[1]\n",
    "C = kapsa[2]\n",
    "D = kapsa[3]"
   ]
  },
  {
   "cell_type": "code",
   "execution_count": 15,
   "metadata": {
    "collapsed": false
   },
   "outputs": [],
   "source": [
    "x1 = kapsa[0][0]\n",
    "x2 = kapsa[1][0]\n",
    "x3 = kapsa[2][0]\n",
    "x4 = kapsa[3][0]"
   ]
  },
  {
   "cell_type": "code",
   "execution_count": 16,
   "metadata": {
    "collapsed": false
   },
   "outputs": [],
   "source": [
    "y1 = kapsa[0][1]\n",
    "y2 = kapsa[1][1]\n",
    "y3 = kapsa[2][1]\n",
    "y4 = kapsa[3][1]"
   ]
  },
  {
   "cell_type": "code",
   "execution_count": 17,
   "metadata": {
    "collapsed": true
   },
   "outputs": [],
   "source": [
    "durum = np.ones((9,9,9))#durum[sayı,x,y]"
   ]
  },
  {
   "cell_type": "code",
   "execution_count": 18,
   "metadata": {
    "collapsed": true
   },
   "outputs": [],
   "source": [
    "# noktalar arası mesafeler\n",
    "def mesafe(X,Y):\n",
    "    AB = int(math.sqrt((Y[0]-X[0])**2 + (Y[1]-X[1])**2))\n",
    "    return AB"
   ]
  },
  {
   "cell_type": "raw",
   "metadata": {},
   "source": [
    "plt.plot(X,C)\n",
    "plt.plot(X,S)# Create a new figure of size 8x6 points, using 100 dots per inch\n",
    "plt.figure(figsize=(8,6), dpi=80)\n",
    "\n",
    "# Create a new subplot from a grid of 1x1\n",
    "plt.subplot(111)\n",
    "\n",
    "X = np.linspace(-np.pi, np.pi, 256,endpoint=True)\n",
    "C,S = np.cos(X), np.sin(X)\n",
    "\n",
    "# Plot cosine using blue color with a continuous line of width 1 (pixels)\n",
    "plt.plot(X, C, color=\"blue\", linewidth=1.0, linestyle=\"-\")\n",
    "\n",
    "# Plot sine using green color with a continuous line of width 1 (pixels)\n",
    "plt.plot(X, S, color=\"green\", linewidth=1.0, linestyle=\"-\")\n",
    "\n",
    "# Set x limits\n",
    "plt.xlim(-4.0,4.0)\n",
    "\n",
    "# Set x ticks\n",
    "plt.xticks(np.linspace(-4,4,9,endpoint=True))\n",
    "\n",
    "# Set y limits\n",
    "plt.ylim(-1.0,1.0)\n",
    "\n",
    "# Set y ticks\n",
    "plt.yticks(np.linspace(-1,1,5,endpoint=True))\n",
    "\n",
    "# Save figure using 72 dots per inch\n",
    "# savefig(\"../figures/exercice_2.png\",dpi=72)\n",
    "\n",
    "# Show result on screen\n",
    "plt.show()"
   ]
  },
  {
   "cell_type": "code",
   "execution_count": 19,
   "metadata": {
    "collapsed": false
   },
   "outputs": [
    {
     "data": {
      "image/png": "[encoded data removed]",
      "text/plain": [
       "<matplotlib.figure.Figure at 0x7fd4c45424e0>"
      ]
     },
     "metadata": {},
     "output_type": "display_data"
    }
   ],
   "source": [
    "# noktaların arasını çiziyor\n",
    "#x ler birarada, y ler birarada #plt.subplot(221)\n",
    "x=kapsa.T[0]\n",
    "y=kapsa.T[1]\n",
    "\n",
    "#plt.plot(x,y, 'ro') köşeleri çiziyor\n",
    "\n",
    "def connectpoints(x,y,p1,p2):\n",
    "    x1, x2 = x[p1], x[p2]\n",
    "    y1, y2 = y[p1], y[p2]\n",
    "    plt.plot([x1,x2],[y1,y2],'k-')\n",
    "\n",
    "connectpoints(x,y,0,1)\n",
    "connectpoints(x,y,2,3)\n",
    "connectpoints(x,y,0,3)\n",
    "connectpoints(x,y,1,2)\n",
    "\n",
    "#deneme\n",
    "# karşı noktanın hesaplanması lazım\n",
    "yol = 18\n",
    "#connectpoints(x+yol,y,0,3)\n",
    "#\n",
    "\n",
    "plt.axis('equal')\n",
    "\n",
    "plt.gca().invert_yaxis()\n",
    "\n",
    "# grid\n",
    "\n",
    "\n",
    "plt.yscale('linear')\n",
    "plt.title('kapsa')\n",
    "plt.grid(True)\n",
    "\n",
    "\n",
    "\n",
    "plt.show()"
   ]
  },
  {
   "cell_type": "code",
   "execution_count": 20,
   "metadata": {
    "collapsed": false
   },
   "outputs": [
    {
     "name": "stdout",
     "output_type": "stream",
     "text": [
      "kapsa dikdörtgen olmalı\n"
     ]
    }
   ],
   "source": [
    "print(\"kapsa dikdörtgen olmalı\")"
   ]
  },
  {
   "cell_type": "code",
   "execution_count": null,
   "metadata": {
    "collapsed": true
   },
   "outputs": [],
   "source": []
  }
 ],
 "metadata": {
  "kernelspec": {
   "display_name": "Python 3",
   "language": "python",
   "name": "python3"
  },
  "language_info": {
   "codemirror_mode": {
    "name": "ipython",
    "version": 3
   },
   "file_extension": ".py",
   "mimetype": "text/x-python",
   "name": "python",
   "nbconvert_exporter": "python",
   "pygments_lexer": "ipython3",
   "version": "3.6.0"
  }
 },
 "nbformat": 4,
 "nbformat_minor": 2
}
